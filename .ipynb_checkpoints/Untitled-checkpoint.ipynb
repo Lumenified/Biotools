{
 "cells": [
  {
   "cell_type": "code",
   "execution_count": null,
   "id": "5f609877-1cc4-458d-a741-276693249084",
   "metadata": {},
   "outputs": [],
   "source": [
    "import MDAnalysis\n",
    "from MDAnalysis.tests.datafiles import PSF, DCD   # test trajectory\n",
    "import numpy.linalg\n",
    "\n",
    "u = MDAnalysis.Universe(PSF,DCD)  # always start with a Universe\n",
    "# can access via segid (4AKE) and atom name\n",
    "# we take the first atom named N and the last atom named C\n",
    "nterm = u.select_atoms('segid 4AKE and name N')[0]\n",
    "cterm = u.select_atoms('segid 4AKE and name C')[-1]\n",
    "\n",
    "bb = u.select_atoms('protein and backbone')  # a selection (AtomGroup)\n",
    "\n",
    "for ts in u.trajectory:     # iterate through all frames\n",
    "    r = cterm.position - nterm.position # end-to-end vector from atom positions\n",
    "    d = numpy.linalg.norm(r)  # end-to-end distance\n",
    "    rgyr = bb.radius_of_gyration()  # method of AtomGroup\n",
    "    print(\"frame = {0}: d = {1} A, Rgyr = {2} A\".format(\n",
    "          ts.frame, d, rgyr))"
   ]
  }
 ],
 "metadata": {
  "kernelspec": {
   "display_name": "Python 3",
   "language": "python",
   "name": "python3"
  },
  "language_info": {
   "codemirror_mode": {
    "name": "ipython",
    "version": 3
   },
   "file_extension": ".py",
   "mimetype": "text/x-python",
   "name": "python",
   "nbconvert_exporter": "python",
   "pygments_lexer": "ipython3",
   "version": "3.9.2"
  }
 },
 "nbformat": 4,
 "nbformat_minor": 5
}

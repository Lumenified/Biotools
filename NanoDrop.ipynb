{
 "cells": [
  {
   "cell_type": "code",
   "execution_count": null,
   "id": "52ff70df-bd3e-477b-9836-c3c8d84908e7",
   "metadata": {},
   "outputs": [],
   "source": []
  },
  {
   "cell_type": "code",
   "execution_count": 1,
   "id": "0d3cbcf8",
   "metadata": {},
   "outputs": [
    {
     "ename": "FileNotFoundError",
     "evalue": "[Errno 2] No such file or directory: '221220rserisi.ndv'",
     "output_type": "error",
     "traceback": [
      "\u001b[0;31m---------------------------------------------------------------------------\u001b[0m",
      "\u001b[0;31mFileNotFoundError\u001b[0m                         Traceback (most recent call last)",
      "\u001b[0;32m<ipython-input-1-8f771af57c2d>\u001b[0m in \u001b[0;36m<module>\u001b[0;34m\u001b[0m\n\u001b[1;32m      3\u001b[0m \u001b[0;32mimport\u001b[0m \u001b[0mnumpy\u001b[0m \u001b[0;32mas\u001b[0m \u001b[0mnp\u001b[0m\u001b[0;34m\u001b[0m\u001b[0;34m\u001b[0m\u001b[0m\n\u001b[1;32m      4\u001b[0m \u001b[0;31m# Read the NDV file into a DataFrame\u001b[0m\u001b[0;34m\u001b[0m\u001b[0;34m\u001b[0m\u001b[0;34m\u001b[0m\u001b[0m\n\u001b[0;32m----> 5\u001b[0;31m \u001b[0;32mwith\u001b[0m \u001b[0mopen\u001b[0m\u001b[0;34m(\u001b[0m\u001b[0;34m'221220rserisi.ndv'\u001b[0m\u001b[0;34m)\u001b[0m \u001b[0;32mas\u001b[0m \u001b[0mdoc\u001b[0m\u001b[0;34m:\u001b[0m\u001b[0;34m\u001b[0m\u001b[0;34m\u001b[0m\u001b[0m\n\u001b[0m\u001b[1;32m      6\u001b[0m     \u001b[0mlines\u001b[0m \u001b[0;34m=\u001b[0m \u001b[0;34m[\u001b[0m\u001b[0mline\u001b[0m\u001b[0;34m.\u001b[0m\u001b[0mrstrip\u001b[0m\u001b[0;34m(\u001b[0m\u001b[0;34m\"\\n\"\u001b[0m\u001b[0;34m)\u001b[0m \u001b[0;32mfor\u001b[0m \u001b[0mline\u001b[0m \u001b[0;32min\u001b[0m \u001b[0mdoc\u001b[0m\u001b[0;34m]\u001b[0m\u001b[0;34m\u001b[0m\u001b[0;34m\u001b[0m\u001b[0m\n\u001b[1;32m      7\u001b[0m     \u001b[0mmydata\u001b[0m \u001b[0;34m=\u001b[0m \u001b[0;34m[\u001b[0m\u001b[0;34m]\u001b[0m\u001b[0;34m\u001b[0m\u001b[0;34m\u001b[0m\u001b[0m\n",
      "\u001b[0;31mFileNotFoundError\u001b[0m: [Errno 2] No such file or directory: '221220rserisi.ndv'"
     ]
    }
   ],
   "source": [
    "import pandas as pd\n",
    "import matplotlib.pyplot as plt\n",
    "import numpy as np\n",
    "# Read the NDV file into a DataFrame\n",
    "with open('221220rserisi.ndv') as doc:\n",
    "    lines = [line.rstrip(\"\\n\") for line in doc] \n",
    "    mydata = []\n",
    "    for i in lines:\n",
    "        mydata.append(i.replace(\"\\t\", \" \"))\n",
    "    \n",
    "    \n",
    "    temp = [item for item in mydata[4].split()]\n",
    "    columns = []\n",
    "    for i in range(len(temp)):\n",
    "        if temp[i]=='ID' or temp[i]=='#' or temp[i]=='Type' or temp[i]=='raw' or temp[i]=='abs.' or temp[i]=='Pos.':\n",
    "            columns[-1]=columns[-1] + ' ' + temp[i]\n",
    "        else:\n",
    "            columns.append(temp[i])\n",
    "    \n",
    "    data1 = mydata[5:]\n",
    "    temp1 = [[a for a in i.split()] for i in data1]\n",
    "    for i in range(len(temp1)):\n",
    "        if len(temp1[i])==149:\n",
    "            None\n",
    "        else:\n",
    "            for j in range(len(temp1[i])-149):\n",
    "                temp1[i][0] += ' ' + temp1[i][1]\n",
    "                temp1[i].pop(1)\n",
    "        temp1[i][3]=temp1[i][3] + ' ' + temp1[i][4]\n",
    "        temp1[i].pop(4)\n",
    "        temp1[i][14]=temp1[i][14] + ' ' + temp1[i][15]\n",
    "        temp1[i].pop(15)\n",
    "    myfile = pd.DataFrame(temp1, columns=columns) \n",
    "    myfile.iloc[:,16:] = myfile.iloc[:,16:].astype(float)\n",
    "    myfile.iloc[:,4:12] = myfile.iloc[:,4:12].astype(float)   \n",
    "# Set the colors and line styles to use for the plots\n",
    "# Iterate over the absorbance columns\n",
    "for i, row in myfile.iterrows():\n",
    "    ax = plt.gca()\n",
    "    residue = len(myfile.columns[16:])%10 #value for xticks\n",
    "    y = row[16:len(myfile.columns)-residue]\n",
    "    x = myfile.columns[16:len(myfile.columns)-residue].astype(int)\n",
    "    label = row['Sample ID'] \n",
    "    colormap = plt.cm.nipy_spectral   \n",
    "    colors = colormap(np.linspace(0, 1, len(myfile.columns[16:])))\n",
    "    color = colors[i % len(colors)]\n",
    "   \n",
    "    plt.rc(colors)# Use a color from the list, repeating as necessary\n",
    "    plt.xticks(range(x[0],x[-1],10)) #X axis is too dirty to be shown, so trim the xticks by 10\n",
    "    plt.plot(x, y, label=label)  # Create the line plot\n",
    "plt.title('Absorbance by Sample ID')  # Set the plot title\n",
    "plt.xlabel('Wavelength (nm)')  # Set the x-axis label\n",
    "plt.ylabel('Absorbance Value (AU)')\n",
    "plt.legend()\n",
    "plt.show()\n"
   ]
  },
  {
   "cell_type": "code",
   "execution_count": 62,
   "id": "dd4b0e6e",
   "metadata": {},
   "outputs": [
    {
     "name": "stdout",
     "output_type": "stream",
     "text": [
      "                    User ID        Date       Time   ng/ul   A260   A280  \\\n",
      "Sample ID                                                                  \n",
      "H2O                Default    3/9/2009    5:37 AM    -0.27 -0.005 -0.007   \n",
      "221220 R1/70-1G    Default    3/9/2009    5:38 AM    72.61  1.452  0.729   \n",
      "221220 R1/70-1G    Default    3/9/2009    5:38 AM    75.51  1.510  0.756   \n",
      "221220 R1/70-1G    Default    3/9/2009    5:39 AM    76.27  1.525  0.759   \n",
      "221220 R1/15-2G    Default    3/9/2009    5:39 AM    97.22  1.944  0.963   \n",
      "221220 R1/15-2G    Default    3/9/2009    5:40 AM    98.14  1.963  0.971   \n",
      "221220 R2/100-3G   Default    3/9/2009    5:41 AM   249.49  4.990  2.654   \n",
      "221220 R2/100-3G   Default    3/9/2009    5:41 AM   253.96  5.079  2.694   \n",
      "221220 R2/20-4G    Default    3/9/2009    5:42 AM   275.74  5.515  3.015   \n",
      "221220 R2/20-4G    Default    3/9/2009    5:42 AM   281.29  5.626  3.079   \n",
      "221219 R1.2        Default    3/9/2009    5:43 AM    95.20  1.904  0.751   \n",
      "221219 R1.2        Default    3/9/2009    5:43 AM    96.03  1.921  0.753   \n",
      "221219 R2.1        Default    3/9/2009    5:44 AM    40.37  0.807  0.464   \n",
      "221219 R2.1        Default    3/9/2009    5:44 AM    42.43  0.849  0.479   \n",
      "\n",
      "                  260/280  260/230  Constant  Cursor Pos.  ...    341    342  \\\n",
      "Sample ID                                                  ...                 \n",
      "H2O                  0.73    -0.48      50.0          230  ...  0.003  0.004   \n",
      "221220 R1/70-1G      1.99     1.20      50.0          230  ...  0.000 -0.002   \n",
      "221220 R1/70-1G      2.00     1.08      50.0          230  ... -0.002 -0.004   \n",
      "221220 R1/70-1G      2.01     1.07      50.0          230  ... -0.003 -0.006   \n",
      "221220 R1/15-2G      2.02     1.22      50.0          230  ... -0.002 -0.003   \n",
      "221220 R1/15-2G      2.02     1.23      50.0          230  ... -0.002 -0.005   \n",
      "221220 R2/100-3G     1.88     1.67      50.0          230  ... -0.003 -0.006   \n",
      "221220 R2/100-3G     1.89     1.68      50.0          230  ... -0.009 -0.012   \n",
      "221220 R2/20-4G      1.83     1.69      50.0          230  ... -0.002 -0.003   \n",
      "221220 R2/20-4G      1.83     1.68      50.0          230  ... -0.002 -0.005   \n",
      "221219 R1.2          2.53     0.15      50.0          230  ... -0.016 -0.025   \n",
      "221219 R1.2          2.55     0.15      50.0          230  ... -0.016 -0.025   \n",
      "221219 R2.1          1.74     0.31      50.0          230  ... -0.010 -0.018   \n",
      "221219 R2.1          1.77     0.32      50.0          230  ... -0.010 -0.014   \n",
      "\n",
      "                    343    344    345    346    347    348    349    350  \n",
      "Sample ID                                                                 \n",
      "H2O               0.004  0.002  0.005  0.006  0.005  0.008  0.005  0.006  \n",
      "221220 R1/70-1G   0.001  0.006  0.013  0.018  0.020  0.017  0.011  0.005  \n",
      "221220 R1/70-1G  -0.002 -0.005 -0.003 -0.002 -0.003 -0.004 -0.005 -0.005  \n",
      "221220 R1/70-1G  -0.010 -0.010 -0.009 -0.010 -0.013 -0.010 -0.012 -0.011  \n",
      "221220 R1/15-2G  -0.006 -0.009 -0.006 -0.004 -0.003 -0.002 -0.001 -0.003  \n",
      "221220 R1/15-2G  -0.007 -0.010 -0.010 -0.008 -0.008 -0.006 -0.003 -0.002  \n",
      "221220 R2/100-3G -0.008 -0.009 -0.008 -0.008 -0.014 -0.013 -0.011 -0.012  \n",
      "221220 R2/100-3G -0.013 -0.012 -0.011 -0.010 -0.013 -0.011 -0.010 -0.009  \n",
      "221220 R2/20-4G  -0.005 -0.006 -0.004 -0.002 -0.003 -0.003 -0.002 -0.003  \n",
      "221220 R2/20-4G  -0.006 -0.010 -0.007 -0.007 -0.006 -0.001 -0.001  0.000  \n",
      "221219 R1.2      -0.035 -0.045 -0.050 -0.058 -0.070 -0.079 -0.084 -0.093  \n",
      "221219 R1.2      -0.035 -0.047 -0.052 -0.057 -0.070 -0.081 -0.085 -0.095  \n",
      "221219 R2.1      -0.021 -0.027 -0.030 -0.035 -0.042 -0.041 -0.043 -0.048  \n",
      "221219 R2.1      -0.020 -0.028 -0.029 -0.031 -0.038 -0.041 -0.046 -0.054  \n",
      "\n",
      "[14 rows x 146 columns]\n"
     ]
    }
   ],
   "source": []
  },
  {
   "cell_type": "code",
   "execution_count": null,
   "id": "8a63cc53",
   "metadata": {},
   "outputs": [],
   "source": []
  },
  {
   "cell_type": "code",
   "execution_count": null,
   "id": "386034eb",
   "metadata": {},
   "outputs": [],
   "source": []
  }
 ],
 "metadata": {
  "kernelspec": {
   "display_name": "Python 3",
   "language": "python",
   "name": "python3"
  },
  "language_info": {
   "codemirror_mode": {
    "name": "ipython",
    "version": 3
   },
   "file_extension": ".py",
   "mimetype": "text/x-python",
   "name": "python",
   "nbconvert_exporter": "python",
   "pygments_lexer": "ipython3",
   "version": "3.9.2"
  },
  "vscode": {
   "interpreter": {
    "hash": "916dbcbb3f70747c44a77c7bcd40155683ae19c65e1c03b4aa3499c5328201f1"
   }
  }
 },
 "nbformat": 4,
 "nbformat_minor": 5
}
